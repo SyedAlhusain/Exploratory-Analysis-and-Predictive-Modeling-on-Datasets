{
 "cells": [
  {
   "cell_type": "code",
   "execution_count": 26,
   "metadata": {},
   "outputs": [
    {
     "name": "stdout",
     "output_type": "stream",
     "text": [
      "        cyl      disp        hp      drat        wt      qsec        vs   \n",
      "0 -0.104988 -0.570620 -0.535093  0.567514 -0.610400 -0.777165 -0.868028  \\\n",
      "1 -0.104988 -0.570620 -0.535093  0.567514 -0.349785 -0.463781 -0.868028   \n",
      "2 -1.224858 -0.990182 -0.783040  0.474000 -0.917005  0.426007  1.116036   \n",
      "3 -0.104988  0.220094 -0.535093 -0.966118 -0.002300  0.890487  1.116036   \n",
      "4  1.014882  1.043081  0.412942 -0.835198  0.227654 -0.463781 -0.868028   \n",
      "\n",
      "         am      gear      carb  \n",
      "0  1.189901  0.423554  0.735203  \n",
      "1  1.189901  0.423554  0.735203  \n",
      "2  1.189901  0.423554 -1.122152  \n",
      "3 -0.814143 -0.931819 -1.122152  \n",
      "4 -0.814143 -0.931819 -0.503034  \n",
      "\n",
      "Mean of scaled features:\n",
      "cyl     -0.00\n",
      "disp     0.00\n",
      "hp       0.00\n",
      "drat    -0.00\n",
      "wt      -0.00\n",
      "qsec    -0.00\n",
      "vs       0.00\n",
      "am       0.00\n",
      "gear    -0.00\n",
      "carb     0.00\n",
      "\n",
      "Variance of scaled features:\n",
      "cyl     1.0\n",
      "disp    1.0\n",
      "hp      1.0\n",
      "drat    1.0\n",
      "wt      1.0\n",
      "qsec    1.0\n",
      "vs      1.0\n",
      "am      1.0\n",
      "gear    1.0\n",
      "carb    1.0\n"
     ]
    }
   ],
   "source": [
    "##########################################################################################################################################################\n",
    "## File:         AX18210_Homework5.ipynb\n",
    "## Author:       Syed Husain\n",
    "## Date:         5/20/2023\n",
    "## E-mail:       ax18210@umbc.edu\n",
    "## Desciption: The file reads from csv files and uses the data to program specific tasks\n",
    "## Course/Section : CMSC 471\n",
    "##############################################################################################################################################\n",
    "\n",
    "#libraries used\n",
    "import pandas as pd\n",
    "import numpy as np\n",
    "import matplotlib.pyplot as plt\n",
    "\n",
    "\n",
    "#Files\n",
    "car_file = \"cars.csv\"\n",
    "cancer_file = \"cancer.csv\"\n",
    "email_file = \"emails.csv\"\n",
    "\n",
    "# Load the data\n",
    "data = pd.read_csv(car_file)\n",
    "\n",
    "# Get the features to scale\n",
    "features = data.columns[1:]\n",
    "\n",
    "# Calculate the mean and variance of each feature\n",
    "means = data[features].mean()\n",
    "variances = data[features].var()\n",
    "\n",
    "# Scale each feature using mean normalization\n",
    "scaled_data = (data[features] - means) / np.sqrt(variances)\n",
    "\n",
    "#2A\n",
    "\n",
    "# Print the first 5 values of each scaled feature\n",
    "print(scaled_data.head())\n",
    "\n",
    "# Print the mean and variance of each scaled feature\n",
    "print(\"\\nMean of scaled features:\")\n",
    "print(scaled_data.mean().apply(lambda x: \"{:.2f}\".format(x)).to_string())\n",
    "print(\"\\nVariance of scaled features:\")\n",
    "print(scaled_data.var().to_string())\n"
   ]
  },
  {
   "attachments": {},
   "cell_type": "markdown",
   "metadata": {},
   "source": [
    "2B"
   ]
  },
  {
   "cell_type": "code",
   "execution_count": 27,
   "metadata": {},
   "outputs": [
    {
     "data": {
      "image/png": "[encoded data removed]",
      "text/plain": [
       "<Figure size 640x480 with 1 Axes>"
      ]
     },
     "metadata": {},
     "output_type": "display_data"
    }
   ],
   "source": [
    "# Calculate scaled wt\n",
    "scaled_wt = (data['wt'] - data['wt'].mean()) / np.sqrt(data['wt'].var())\n",
    "\n",
    "# Create a scatter plot of mpg vs. scaled wt\n",
    "plt.scatter(scaled_wt, data['mpg'])\n",
    "plt.xlabel('Scaled wt')\n",
    "plt.ylabel('mpg')\n",
    "plt.title('Scatter Plot of mpg vs. Scaled wt')\n",
    "plt.show()"
   ]
  },
  {
   "attachments": {},
   "cell_type": "markdown",
   "metadata": {},
   "source": [
    "From the graph we see an inverse realtionship between mpg and scaled wt, where the lower the value of Scaled wt is, the higher the value of mpg becomes. This indicates that the vehicles with lower weight tend to have higher miles per gallon (mpg) ratings, indicating better fuel efficiency. On the other hand, as the weight of the vehicle increases, the fuel efficiency decreases, resulting in lower mpg values."
   ]
  },
  {
   "attachments": {},
   "cell_type": "markdown",
   "metadata": {},
   "source": [
    "2C"
   ]
  },
  {
   "cell_type": "code",
   "execution_count": 28,
   "metadata": {},
   "outputs": [
    {
     "name": "stdout",
     "output_type": "stream",
     "text": [
      "Learned Hypothesis:\n",
      "theta0: 20.090586514008464\n",
      "theta1: -5.229322134381895\n"
     ]
    }
   ],
   "source": [
    "# Prepare the data\n",
    "X = scaled_wt.values\n",
    "y = data['mpg'].values\n",
    "\n",
    "# Initialize parameters\n",
    "theta0 = 0\n",
    "theta1 = 0\n",
    "\n",
    "# Set learning rate and convergence threshold\n",
    "learning_rate = 0.2\n",
    "convergence_threshold = 1e-5\n",
    "\n",
    "# Perform gradient descent\n",
    "m = len(X)\n",
    "\n",
    "converged = False\n",
    "while not converged:\n",
    "    theta0_old = theta0\n",
    "    theta1_old = theta1\n",
    "\n",
    "    predictions = theta0 + theta1 * X\n",
    "    \n",
    "    # Update parameters\n",
    "    theta0 -= learning_rate * (1 / m) * np.sum(predictions - y)\n",
    "    theta1 -= learning_rate * (1 / m) * np.sum((predictions - y) * X)\n",
    "\n",
    "    if abs(theta0 - theta0_old) < convergence_threshold and abs(theta1 - theta1_old) < convergence_threshold:\n",
    "        converged = True\n",
    "\n",
    "# Print the learned hypothesis\n",
    "print('Learned Hypothesis:')\n",
    "print('theta0:', theta0)\n",
    "print('theta1:', theta1)"
   ]
  },
  {
   "attachments": {},
   "cell_type": "markdown",
   "metadata": {},
   "source": [
    "2D"
   ]
  },
  {
   "cell_type": "code",
   "execution_count": 29,
   "metadata": {},
   "outputs": [
    {
     "data": {
      "image/png": "[encoded data removed]",
      "text/plain": [
       "<Figure size 640x480 with 1 Axes>"
      ]
     },
     "metadata": {},
     "output_type": "display_data"
    }
   ],
   "source": [
    "# Plot the data and the linear regression line\n",
    "plt.scatter(X, y)\n",
    "plt.plot(X, theta0 + theta1 * X, color='red', label='Linear Regression')\n",
    "plt.xlabel('Scaled wt')\n",
    "plt.ylabel('mpg')\n",
    "plt.title('Linear Regression: mpg vs. Scaled wt')\n",
    "plt.legend()\n",
    "plt.show()"
   ]
  },
  {
   "attachments": {},
   "cell_type": "markdown",
   "metadata": {},
   "source": [
    "From the linear hypothesis, we find that the linear regression is a negative slope as it finds the best-fitting line that represents the inverse relationship between variables scaled wt and mpg. Thus, the linear hypothesis supports the inverse relationship whereas the weight of the vehicle decreases, the fuel efficiency improves, resulting in higher mpg values."
   ]
  },
  {
   "attachments": {},
   "cell_type": "markdown",
   "metadata": {},
   "source": [
    "2E"
   ]
  },
  {
   "cell_type": "code",
   "execution_count": 30,
   "metadata": {},
   "outputs": [
    {
     "name": "stdout",
     "output_type": "stream",
     "text": [
      "Learned Hypothesis:\n",
      "theta0: 20.090624999999996\n",
      "theta1: -0.19849676723406798\n",
      "theta2: 1.6505937651443514\n",
      "theta3: -1.4720983511411836\n",
      "theta4: 0.4210233250566191\n",
      "theta5: -3.6335879105034374\n",
      "theta6: 1.46666525725918\n",
      "theta7: 0.16014005297309947\n",
      "theta8: 1.257569039501299\n",
      "theta9: 0.48380029357102816\n",
      "theta10: -0.3232335915484782\n"
     ]
    }
   ],
   "source": [
    "# List of features to be scaled\n",
    "features = ['cyl', 'disp', 'hp', 'drat', 'wt', 'qsec', 'vs', 'am', 'gear', 'carb']\n",
    "\n",
    "# Calculate scaled features\n",
    "scaled_features = (data[features] - data[features].mean()) / np.sqrt(data[features].var())\n",
    "\n",
    "# Prepare the data\n",
    "X = np.column_stack((np.ones(len(data)), scaled_features.values))\n",
    "y = data['mpg'].values\n",
    "\n",
    "# Initialize parameters\n",
    "theta = np.zeros(X.shape[1])\n",
    "\n",
    "#set the learning rate and threshold\n",
    "learning_rate = 0.2\n",
    "convergence_threshold = 1e-5\n",
    "\n",
    "# Perform gradient descent\n",
    "m = len(X)\n",
    "\n",
    "converged = False\n",
    "while not converged:\n",
    "    prev_theta = np.copy(theta)\n",
    "    \n",
    "    # Calculate predictions\n",
    "    predictions = np.dot(X, theta)\n",
    "    \n",
    "    # Update parameters\n",
    "    theta -= (learning_rate / m) * np.dot(X.T, predictions - y)\n",
    "\n",
    "    # Check convergence\n",
    "    if np.abs(theta - prev_theta).max() < convergence_threshold:\n",
    "        converged = True\n",
    "\n",
    "# Print the learned parameters\n",
    "print('Learned Hypothesis:')\n",
    "for i, feature in enumerate(['Intercept'] + features):\n",
    "    #print(f'{feature}: {theta[i]}')\n",
    "    print(f'theta{i}: {theta[i]}')"
   ]
  },
  {
   "attachments": {},
   "cell_type": "markdown",
   "metadata": {},
   "source": [
    "3A"
   ]
  },
  {
   "cell_type": "code",
   "execution_count": 31,
   "metadata": {},
   "outputs": [
    {
     "name": "stdout",
     "output_type": "stream",
     "text": [
      "Learned Probabilities:\n",
      "theta0 = -0.22245294567679239\n",
      "theta1 = 0.6275279092602254\n"
     ]
    }
   ],
   "source": [
    "# Load the dataset from cancer.csv\n",
    "data = pd.read_csv(cancer_file)\n",
    "\n",
    "\n",
    "# Extract the features and target variable\n",
    "X = data['Smoking']\n",
    "y = data['LungCancer']\n",
    "\n",
    "# Initialize parameters\n",
    "theta0 = 0\n",
    "theta1 = 0\n",
    "\n",
    "# Set learning rate and convergence threshold\n",
    "learning_rate = 0.2\n",
    "convergence_threshold = 1e-5\n",
    "\n",
    "# Perform gradient descent\n",
    "converged = False\n",
    "while not converged:\n",
    "    theta0_old = theta0\n",
    "    theta1_old = theta1\n",
    "    \n",
    "    # Calculate hypothesis and update parameters\n",
    "    h_theta = 1 / (1 + np.exp(-(theta0 + theta1 * X)))\n",
    "    theta0 -= learning_rate * np.mean(h_theta - y)\n",
    "    theta1 -= learning_rate * np.mean((h_theta - y) * X)\n",
    "    \n",
    "    # Check convergence\n",
    "    if abs(theta0 - theta0_old) < convergence_threshold and abs(theta1 - theta1_old) < convergence_threshold:\n",
    "        converged = True\n",
    "\n",
    "# Print the learned probabilities\n",
    "print(\"Learned Probabilities:\")\n",
    "print(\"theta0 =\", theta0)\n",
    "print(\"theta1 =\", theta1)"
   ]
  },
  {
   "attachments": {},
   "cell_type": "markdown",
   "metadata": {},
   "source": [
    "3B"
   ]
  },
  {
   "cell_type": "code",
   "execution_count": 32,
   "metadata": {},
   "outputs": [
    {
     "name": "stdout",
     "output_type": "stream",
     "text": [
      "Confusion Matrix:\n",
      "                       Predicted\n",
      "                       Cancer     No Cancer\n",
      "Observed     Cancer      6             4\n",
      "             No Cancer   4             5\n",
      "\n",
      "Percentages:\n",
      "Overall Accuracy: 57.89%\n",
      "Cancer Accuracy: 60.00%\n",
      "No Cancer Accuracy: 55.56%\n"
     ]
    }
   ],
   "source": [
    "# Extract the features (Smoking) and labels (LungCancer)\n",
    "smoking = data['Smoking']\n",
    "lung_cancer = data['LungCancer']\n",
    "\n",
    "# Function to calculate the predicted probability using the given hypothesis\n",
    "def predict_probability(smoking, theta0, theta1):\n",
    "    z = theta0 + theta1 * smoking\n",
    "    return 1 / (1 + np.exp(-z))\n",
    "\n",
    "# Classify individuals based on the learned parameters\n",
    "predicted_probabilities = predict_probability(smoking, theta0, theta1)\n",
    "predicted_labels = np.where(predicted_probabilities > 0.5, 1, 0)\n",
    "\n",
    "# Calculate the confusion matrix\n",
    "confusion_matrix = pd.crosstab(predicted_labels, lung_cancer, rownames=['Predicted'], colnames=['Actual'])\n",
    "\n",
    "total_samples = len(lung_cancer)\n",
    "correct_predictions = np.sum(lung_cancer == predicted_labels) \n",
    "accuracy = (correct_predictions / total_samples ) * 100\n",
    "\n",
    "category_accuracy = np.diagonal(confusion_matrix) / np.sum(confusion_matrix, axis=1) \n",
    "category_accuracy = np.nan_to_num(category_accuracy, nan=0) * 100 # Replace NaN with 0 for categories with zero samples\n",
    "\n",
    "\n",
    "def print_confusion_matrix(confusion_matrix, label_1, label_2, accuracy, category_accuracy):\n",
    "    TN = confusion_matrix.iloc[0, 0]  # True Negative\n",
    "    FP = confusion_matrix.iloc[1, 0]  # False Positive\n",
    "    FN = confusion_matrix.iloc[0, 1]  # False Negative\n",
    "    TP = confusion_matrix.iloc[1, 1]  # True Positive\n",
    "\n",
    "    print('Confusion Matrix:')\n",
    "    print(f\"{'':23}Predicted\")\n",
    "    print(f\"{'':23}{label_1:<10} {label_2}\")\n",
    "    print(f\"Observed     {label_1:<12}{TP:<14}{FP}\")\n",
    "    print(f\"             {label_2:<12}{FN:<14}{TN}\")\n",
    "    print('\\nPercentages:')\n",
    "    print(\"Overall Accuracy: {:.2f}%\".format(accuracy))\n",
    "    print(f'{label_1} Accuracy: {category_accuracy[1]:.2f}%')\n",
    "    print(f'{label_2} Accuracy: {category_accuracy[0]:.2f}%')\n",
    "\n",
    "label_1 = \"Cancer\"\n",
    "label_2 = \"No Cancer\"\n",
    "print_confusion_matrix(confusion_matrix, label_1, label_2, accuracy, category_accuracy)"
   ]
  },
  {
   "attachments": {},
   "cell_type": "markdown",
   "metadata": {},
   "source": [
    "From the results we find that the model correctly predicted 6 instances of cancer and correctly predicted 5 instances as not cancer. On the other hand, The model incorrectly predicted 4 instances as not cancer when they were actually cancer as well as incorrectly predicted 4 instances as cancer when they were actually not cancer. With an overall accuracy is 57.89%, model indicates a slightly better-than-random performance. On the other hand, the cancer accuracy and no cancer accuracy are 60.00% and 55.56% respectively which suggests that the model is better at predicting cancer cases than non-cancer cases. "
   ]
  },
  {
   "attachments": {},
   "cell_type": "markdown",
   "metadata": {},
   "source": [
    "4A"
   ]
  },
  {
   "cell_type": "code",
   "execution_count": 33,
   "metadata": {},
   "outputs": [
    {
     "data": {
      "image/png": "[encoded data removed]",
      "text/plain": [
       "<Figure size 640x480 with 1 Axes>"
      ]
     },
     "metadata": {},
     "output_type": "display_data"
    }
   ],
   "source": [
    "# Load the dataset\n",
    "df = pd.read_csv(email_file)\n",
    "\n",
    "# Create separate dataframes for spam and non-spam emails\n",
    "spam_emails = df[df['SpamFlag'] == 1]\n",
    "non_spam_emails = df[df['SpamFlag'] == 0]\n",
    "\n",
    "# Create the scatter plot\n",
    "plt.scatter(spam_emails['SuspiciousWordCount'], spam_emails['SubjectLength'], color='red', label='Spam')\n",
    "plt.scatter(non_spam_emails['SuspiciousWordCount'], non_spam_emails['SubjectLength'], color='blue', label='Non-Spam')\n",
    "\n",
    "# Label the axes and add a legend\n",
    "plt.xlabel('Suspicious Word Count')\n",
    "plt.ylabel('Subject Length')\n",
    "plt.legend()\n",
    "\n",
    "# Show the plot\n",
    "plt.show()\n",
    "\n"
   ]
  },
  {
   "attachments": {},
   "cell_type": "markdown",
   "metadata": {},
   "source": [
    "From the plot we find that as the value of suspicious word count increases the value of subject length also increases. This indicates a positive correlation between the suspicious word count and subject length where on average, emails with more suspicious words tend to have longer subjects. For values of suspicious word count between 0-10 we find spam points which implies that emails with a low number of suspicious words (between 0-10) tend to be labeled as spam. It suggests that this range of suspicious word counts is associated with a higher likelihood of an email being classified as spam. On the other hand, emails with suspicious words (between 10-20) tend to be classified as non-spam. It implies that this range of suspicious word counts is associated with a higher likelihood of an email being classified as non-spam."
   ]
  },
  {
   "attachments": {},
   "cell_type": "markdown",
   "metadata": {},
   "source": [
    "4B"
   ]
  },
  {
   "cell_type": "code",
   "execution_count": 34,
   "metadata": {},
   "outputs": [
    {
     "name": "stdout",
     "output_type": "stream",
     "text": [
      "Learned Probabilities:\n",
      "Theta0 = -35.68618636195089\n",
      "Theta1 = 0.2354974355861845\n",
      "Theta2 = 3.89216072579534\n"
     ]
    }
   ],
   "source": [
    "df = pd.read_csv(email_file)\n",
    "\n",
    "# Define the logistic regression hypothesis\n",
    "def logistic_regression_hypothesis(theta, X):\n",
    "    z = np.dot(X, theta)\n",
    "    return 1 / (1 + np.exp(-z))\n",
    "\n",
    "# Add a column of 1s to the dataframe for the bias term\n",
    "df['Bias'] = 1\n",
    "\n",
    "# Extract the features and labels\n",
    "X = df[['Bias', 'SubjectLength', 'SuspiciousWordCount']].values\n",
    "y = df['SpamFlag'].values\n",
    "\n",
    "\n",
    "def gradient_descent(theta, learning_rate, convergence_threshold):\n",
    "    # Perform gradient descent\n",
    "    converged = False\n",
    "    prev_theta = np.copy(theta)\n",
    "\n",
    "    while not converged:\n",
    "        gradient = np.dot(X.T, logistic_regression_hypothesis(theta, X) - y) / len(y)\n",
    "        theta -= learning_rate * gradient\n",
    "\n",
    "        # Check convergence\n",
    "        if np.abs(theta - prev_theta).max() < convergence_threshold:\n",
    "            return theta\n",
    "\n",
    "        prev_theta = np.copy(theta)\n",
    "\n",
    "    return theta\n",
    "\n",
    "# Initialize the parameters\n",
    "theta = np.zeros(3)  \n",
    "\n",
    "#set the learning rate and threshold\n",
    "learning_rate = 0.20\n",
    "convergence_threshold = 1e-5\n",
    "\n",
    "theta = gradient_descent(theta, learning_rate, convergence_threshold)\n",
    "\n",
    "print('Learned Probabilities:')\n",
    "for i, val in enumerate(theta):\n",
    "    print(f\"Theta{i} = {val}\")"
   ]
  },
  {
   "attachments": {},
   "cell_type": "markdown",
   "metadata": {},
   "source": [
    "4D"
   ]
  },
  {
   "cell_type": "code",
   "execution_count": 35,
   "metadata": {},
   "outputs": [
    {
     "name": "stdout",
     "output_type": "stream",
     "text": [
      "Confusion Matrix:\n",
      "                       Predicted\n",
      "                       Spam       Non-Spam\n",
      "Observed     Spam        10            0\n",
      "             Non-Spam    1             9\n",
      "\n",
      "Percentages:\n",
      "Overall Accuracy: 95.00%\n",
      "Spam Accuracy: 100.00%\n",
      "Non-Spam Accuracy: 90.00%\n"
     ]
    }
   ],
   "source": [
    "# Define the logistic regression hypothesis\n",
    "def logistic_regression_hypothesis(theta, X):\n",
    "    z = np.dot(X, theta)\n",
    "    return 1 / (1 + np.exp(-z))\n",
    "\n",
    "# Calculate the probabilities for spam emails\n",
    "prob_spam = logistic_regression_hypothesis(theta, X)\n",
    "\n",
    "# Classify emails based on the probability threshold of 0.5\n",
    "predicted_labels = np.where(prob_spam >= 0.5, 1, 0)\n",
    "\n",
    "# Calculate the confusion matrix\n",
    "confusion_matrix = pd.crosstab(y, predicted_labels, rownames=['Actual'], colnames=['Predicted'])\n",
    "\n",
    "# Calculate overall accuracy\n",
    "accuracy = np.sum(np.diag(confusion_matrix)) / np.sum(np.sum(confusion_matrix)) * 100\n",
    "category_accuracy = np.diagonal(confusion_matrix) / np.sum(confusion_matrix, axis=1) \n",
    "category_accuracy = np.nan_to_num(category_accuracy, nan=0) * 100 # Replace NaN with 0 for categories with zero samples\n",
    "\n",
    "# Example usage\n",
    "label_1 = \"Spam\"\n",
    "label_2 = \"Non-Spam\"\n",
    "\n",
    "print_confusion_matrix(confusion_matrix, label_1, label_2, accuracy, category_accuracy)\n",
    "\n"
   ]
  },
  {
   "attachments": {},
   "cell_type": "markdown",
   "metadata": {},
   "source": [
    "From the results we find that the model correctly predicted 10 instances as spam and correctly predicted 9 instances as non-spam. On the other hand, The model incorrectly predicted only a single 1 instance as spam when it was actually not spam. The model never incorrectly predicted any non-spam. The model achieved a good 95% of overall accuracy which demonstrates excellent performance. It achieved high accuracy scores across the board, correctly identifying all instances of spam and achieving a 90% accuracy for non-spam cases. \n",
    "Thus, the model exhibited excellent performance, with high accuracy, low false positive rate, and successful identification of both spam and non-spam instances."
   ]
  }
 ],
 "metadata": {
  "kernelspec": {
   "display_name": "Python 3",
   "language": "python",
   "name": "python3"
  },
  "language_info": {
   "codemirror_mode": {
    "name": "ipython",
    "version": 3
   },
   "file_extension": ".py",
   "mimetype": "text/x-python",
   "name": "python",
   "nbconvert_exporter": "python",
   "pygments_lexer": "ipython3",
   "version": "3.10.4"
  },
  "orig_nbformat": 4
 },
 "nbformat": 4,
 "nbformat_minor": 2
}
